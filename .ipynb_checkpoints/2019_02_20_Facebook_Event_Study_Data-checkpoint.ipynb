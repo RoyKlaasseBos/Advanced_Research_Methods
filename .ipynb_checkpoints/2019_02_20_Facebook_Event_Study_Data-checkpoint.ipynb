{
 "cells": [
  {
   "cell_type": "markdown",
   "metadata": {},
   "source": [
    "# Facebook Stock Event Study"
   ]
  },
  {
   "cell_type": "markdown",
   "metadata": {},
   "source": [
    "*A few weeks ago Facebook's stock skyrocketed after they announced the fourth-quarter earnings on the 30th of January 2019. Despite all privacy scandals and criticism in the media recently, the tech unicorn proved investors wrong: stock prices exceeded the 170 dollar mark after a long period of decline. Figure 1 illustrates the financial consequences of this event as compared to overall industry market growth (NASDAQ).*\n",
    "\n",
    "*In this assignment we apply the event study method to demonstrate that stock returns on the 30th and 31th of January can be regarded as abnormal. This method assumes that * "
   ]
  },
  {
   "cell_type": "markdown",
   "metadata": {},
   "source": [
    "![Facebook Stock](FB_stock.png)\n",
    "**Figure 1**: Facebook (dark blue) vs NASDAQ (light blue) stock price growth\n"
   ]
  },
  {
   "cell_type": "code",
   "execution_count": 55,
   "metadata": {},
   "outputs": [],
   "source": [
    "# collect Facebook stock data for the last 2 years (IEX Trading API)\n",
    "import requests, pandas as pd\n",
    "\n",
    "def get_stock(stock_symbol):\n",
    "    r = requests.get('https://api.iextrading.com/1.0/stock/' + stock_symbol + '/chart/2y')\n",
    "    result = r.json()\n",
    "    return pd.DataFrame(list({pd.to_datetime(date['date']): date['close'] for date in result}.items()), columns=['date', 'stock']) \n",
    "\n",
    "fb = get_stock('fb')\n",
    "ndaq = get_stock('ndaq')"
   ]
  },
  {
   "cell_type": "code",
   "execution_count": 109,
   "metadata": {},
   "outputs": [],
   "source": [
    "# define stock returns\n",
    "def stock_returns(df): \n",
    "    for row in range(1, len(df)):\n",
    "        df.loc[row, \"stock_return\"] = (df.loc[row, \"stock\"] - df.loc[row-1, \"stock\"]) / df.loc[row-1, \"stock\"]\n",
    "        df.loc[row, \"actual_stock_return\"] = (df.loc[row, \"stock\"] - df.loc[row-1, \"stock\"]) - 1\n",
    "    return df\n",
    "\n",
    "fb = stock_returns(fb)\n",
    "ndaq = stock_returns(ndaq)"
   ]
  },
  {
   "cell_type": "code",
   "execution_count": 104,
   "metadata": {},
   "outputs": [
    {
     "name": "stdout",
     "output_type": "stream",
     "text": [
      "                            OLS Regression Results                            \n",
      "==============================================================================\n",
      "Dep. Variable:           stock_return   R-squared:                       0.078\n",
      "Model:                            OLS   Adj. R-squared:                  0.076\n",
      "Method:                 Least Squares   F-statistic:                     41.21\n",
      "Date:                Wed, 20 Feb 2019   Prob (F-statistic):           3.23e-10\n",
      "Time:                        00:49:49   Log-Likelihood:                 1271.3\n",
      "No. Observations:                 492   AIC:                            -2539.\n",
      "Df Residuals:                     490   BIC:                            -2530.\n",
      "Df Model:                           1                                         \n",
      "Covariance Type:            nonrobust                                         \n",
      "================================================================================\n",
      "                   coef    std err          t      P>|t|      [0.025      0.975]\n",
      "--------------------------------------------------------------------------------\n",
      "const         7.375e-05      0.001      0.089      0.929      -0.002       0.002\n",
      "stock_return     0.4913      0.077      6.420      0.000       0.341       0.642\n",
      "==============================================================================\n",
      "Omnibus:                      330.093   Durbin-Watson:                   2.098\n",
      "Prob(Omnibus):                  0.000   Jarque-Bera (JB):            12851.590\n",
      "Skew:                          -2.336   Prob(JB):                         0.00\n",
      "Kurtosis:                      27.599   Cond. No.                         92.8\n",
      "==============================================================================\n",
      "\n",
      "Warnings:\n",
      "[1] Standard Errors assume that the covariance matrix of the errors is correctly specified.\n"
     ]
    }
   ],
   "source": [
    "# run simple ols model on stock returns (14th of February 2017 to 29th of January 2019)\n",
    "import statsmodels.api as sm\n",
    "from scipy import stats\n",
    "end_date = '2019-01-29'\n",
    "\n",
    "X = ndaq.loc[1:fb[fb.date == end_date].index[0], ['stock_return']] \n",
    "y = fb.loc[1:fb[fb.date == end_date].index[0], ['stock_return']]\n",
    "\n",
    "X2 = sm.add_constant(X)\n",
    "est = sm.OLS(y, X2.astype(float))\n",
    "est2 = est.fit()\n",
    "print(est2.summary())"
   ]
  },
  {
   "cell_type": "code",
   "execution_count": 121,
   "metadata": {},
   "outputs": [],
   "source": [
    "# calculate expected Facebook returns\n",
    "df_merged = pd.merge(fb, ndaq, left_on = 'date', right_on = 'date', suffixes=('_fb', '_ndaq'))\n",
    "df_merged['expected_return_fb'] = est2.params[0] + est2.params[1] * df_merged['actual_stock_return_ndaq']\n",
    "df_merged['abnormal_return_fb'] = df_merged['actual_stock_return_fb'] - df_merged['expected_return_fb']"
   ]
  },
  {
   "cell_type": "code",
   "execution_count": 137,
   "metadata": {},
   "outputs": [
    {
     "data": {
      "text/html": [
       "<div>\n",
       "<style scoped>\n",
       "    .dataframe tbody tr th:only-of-type {\n",
       "        vertical-align: middle;\n",
       "    }\n",
       "\n",
       "    .dataframe tbody tr th {\n",
       "        vertical-align: top;\n",
       "    }\n",
       "\n",
       "    .dataframe thead th {\n",
       "        text-align: right;\n",
       "    }\n",
       "</style>\n",
       "<table border=\"1\" class=\"dataframe\">\n",
       "  <thead>\n",
       "    <tr style=\"text-align: right;\">\n",
       "      <th></th>\n",
       "      <th>date</th>\n",
       "      <th>abnormal_return_fb</th>\n",
       "    </tr>\n",
       "  </thead>\n",
       "  <tbody>\n",
       "    <tr>\n",
       "      <th>494</th>\n",
       "      <td>2019-01-31</td>\n",
       "      <td>15.097982</td>\n",
       "    </tr>\n",
       "    <tr>\n",
       "      <th>302</th>\n",
       "      <td>2018-04-26</td>\n",
       "      <td>13.782030</td>\n",
       "    </tr>\n",
       "    <tr>\n",
       "      <th>470</th>\n",
       "      <td>2018-12-26</td>\n",
       "      <td>8.373196</td>\n",
       "    </tr>\n",
       "    <tr>\n",
       "      <th>372</th>\n",
       "      <td>2018-08-06</td>\n",
       "      <td>7.182286</td>\n",
       "    </tr>\n",
       "    <tr>\n",
       "      <th>179</th>\n",
       "      <td>2017-10-27</td>\n",
       "      <td>6.717222</td>\n",
       "    </tr>\n",
       "  </tbody>\n",
       "</table>\n",
       "</div>"
      ],
      "text/plain": [
       "          date  abnormal_return_fb\n",
       "494 2019-01-31           15.097982\n",
       "302 2018-04-26           13.782030\n",
       "470 2018-12-26            8.373196\n",
       "372 2018-08-06            7.182286\n",
       "179 2017-10-27            6.717222"
      ]
     },
     "execution_count": 137,
     "metadata": {},
     "output_type": "execute_result"
    }
   ],
   "source": [
    "# top 5 dates positive abnormal returns \n",
    "df_merged[['date', 'abnormal_return_fb']].sort_values(by='abnormal_return_fb', ascending=False).head()\n",
    "# note that the 31st of January 2019 has the highest abnormal return!"
   ]
  },
  {
   "cell_type": "code",
   "execution_count": 138,
   "metadata": {},
   "outputs": [
    {
     "data": {
      "text/html": [
       "<div>\n",
       "<style scoped>\n",
       "    .dataframe tbody tr th:only-of-type {\n",
       "        vertical-align: middle;\n",
       "    }\n",
       "\n",
       "    .dataframe tbody tr th {\n",
       "        vertical-align: top;\n",
       "    }\n",
       "\n",
       "    .dataframe thead th {\n",
       "        text-align: right;\n",
       "    }\n",
       "</style>\n",
       "<table border=\"1\" class=\"dataframe\">\n",
       "  <thead>\n",
       "    <tr style=\"text-align: right;\">\n",
       "      <th></th>\n",
       "      <th>date</th>\n",
       "      <th>abnormal_return_fb</th>\n",
       "    </tr>\n",
       "  </thead>\n",
       "  <tbody>\n",
       "    <tr>\n",
       "      <th>365</th>\n",
       "      <td>2018-07-26</td>\n",
       "      <td>-41.724486</td>\n",
       "    </tr>\n",
       "    <tr>\n",
       "      <th>275</th>\n",
       "      <td>2018-03-19</td>\n",
       "      <td>-12.869364</td>\n",
       "    </tr>\n",
       "    <tr>\n",
       "      <th>466</th>\n",
       "      <td>2018-12-19</td>\n",
       "      <td>-10.570176</td>\n",
       "    </tr>\n",
       "    <tr>\n",
       "      <th>231</th>\n",
       "      <td>2018-01-12</td>\n",
       "      <td>-9.376395</td>\n",
       "    </tr>\n",
       "    <tr>\n",
       "      <th>428</th>\n",
       "      <td>2018-10-24</td>\n",
       "      <td>-8.780593</td>\n",
       "    </tr>\n",
       "  </tbody>\n",
       "</table>\n",
       "</div>"
      ],
      "text/plain": [
       "          date  abnormal_return_fb\n",
       "365 2018-07-26          -41.724486\n",
       "275 2018-03-19          -12.869364\n",
       "466 2018-12-19          -10.570176\n",
       "231 2018-01-12           -9.376395\n",
       "428 2018-10-24           -8.780593"
      ]
     },
     "execution_count": 138,
     "metadata": {},
     "output_type": "execute_result"
    }
   ],
   "source": [
    "# top 5 dates negative abnormal returns \n",
    "df_merged[['date', 'abnormal_return_fb']].sort_values(by='abnormal_return_fb', ascending=True).head()\n",
    "# this CNBC article explains why the 26th of June was Facebook's worst day ever: https://www.cnbc.com/2018/07/26/facebook-is-on-pace-for-its-worst-day-ever.html"
   ]
  },
  {
   "cell_type": "code",
   "execution_count": 180,
   "metadata": {},
   "outputs": [
    {
     "data": {
      "text/html": [
       "<div>\n",
       "<style scoped>\n",
       "    .dataframe tbody tr th:only-of-type {\n",
       "        vertical-align: middle;\n",
       "    }\n",
       "\n",
       "    .dataframe tbody tr th {\n",
       "        vertical-align: top;\n",
       "    }\n",
       "\n",
       "    .dataframe thead th {\n",
       "        text-align: right;\n",
       "    }\n",
       "</style>\n",
       "<table border=\"1\" class=\"dataframe\">\n",
       "  <thead>\n",
       "    <tr style=\"text-align: right;\">\n",
       "      <th></th>\n",
       "      <th>date</th>\n",
       "      <th>abnormal_return_fb</th>\n",
       "    </tr>\n",
       "  </thead>\n",
       "  <tbody>\n",
       "    <tr>\n",
       "      <th>491</th>\n",
       "      <td>2019-01-28</td>\n",
       "      <td>-2.235486</td>\n",
       "    </tr>\n",
       "    <tr>\n",
       "      <th>492</th>\n",
       "      <td>2019-01-29</td>\n",
       "      <td>-3.661073</td>\n",
       "    </tr>\n",
       "    <tr>\n",
       "      <th>493</th>\n",
       "      <td>2019-01-30</td>\n",
       "      <td>5.288879</td>\n",
       "    </tr>\n",
       "    <tr>\n",
       "      <th>494</th>\n",
       "      <td>2019-01-31</td>\n",
       "      <td>15.097982</td>\n",
       "    </tr>\n",
       "    <tr>\n",
       "      <th>495</th>\n",
       "      <td>2019-02-01</td>\n",
       "      <td>-1.164565</td>\n",
       "    </tr>\n",
       "    <tr>\n",
       "      <th>496</th>\n",
       "      <td>2019-02-04</td>\n",
       "      <td>3.237530</td>\n",
       "    </tr>\n",
       "    <tr>\n",
       "      <th>497</th>\n",
       "      <td>2019-02-05</td>\n",
       "      <td>1.474887</td>\n",
       "    </tr>\n",
       "    <tr>\n",
       "      <th>498</th>\n",
       "      <td>2019-02-06</td>\n",
       "      <td>-1.237756</td>\n",
       "    </tr>\n",
       "  </tbody>\n",
       "</table>\n",
       "</div>"
      ],
      "text/plain": [
       "          date  abnormal_return_fb\n",
       "491 2019-01-28           -2.235486\n",
       "492 2019-01-29           -3.661073\n",
       "493 2019-01-30            5.288879\n",
       "494 2019-01-31           15.097982\n",
       "495 2019-02-01           -1.164565\n",
       "496 2019-02-04            3.237530\n",
       "497 2019-02-05            1.474887\n",
       "498 2019-02-06           -1.237756"
      ]
     },
     "execution_count": 180,
     "metadata": {},
     "output_type": "execute_result"
    }
   ],
   "source": [
    "# a more detailed looks suggests a 2-day window would be most appropriate (30th and 31st of January)\n",
    "df_merged.loc[491:498, ['date', 'abnormal_return_fb']]"
   ]
  },
  {
   "cell_type": "code",
   "execution_count": 153,
   "metadata": {},
   "outputs": [],
   "source": [
    "# calculate cumulative abornomal returns (CAR)\n",
    "CAR = df_merged.loc[df_merged.date == '2019-01-30', 'abnormal_return_fb'].item() + df_merged.loc[df_merged.date == '2019-01-31', 'abnormal_return_fb'].item()"
   ]
  },
  {
   "cell_type": "code",
   "execution_count": 173,
   "metadata": {},
   "outputs": [
    {
     "name": "stdout",
     "output_type": "stream",
     "text": [
      "All in all, we can conclude that abnormal returns in event period are 7.9 standard deviations from estimation period abnormal returns. Hence, the publication of fourth-quarter results on January 30th 2019 had a significant positive effect on Facebook's stock price.\n"
     ]
    }
   ],
   "source": [
    "# calculate standardized abnormal returns (SCAR)\n",
    "import numpy as np\n",
    "\n",
    "event_window_length = 2\n",
    "var_e = np.var(est2.resid)\n",
    "\n",
    "SCAR = (CAR/100) / (event_window_length * var_e)**.5\n",
    "\n",
    "print(\"All in all, we can conclude that abnormal returns in event period are \" + str(round(SCAR,1)) + \" standard deviations from estimation period abnormal returns. Hence, the publication of fourth-quarter results on January 30th 2019 had a significant positive effect on Facebook's stock price.\")"
   ]
  }
 ],
 "metadata": {
  "kernelspec": {
   "display_name": "Python 3",
   "language": "python",
   "name": "python3"
  },
  "language_info": {
   "codemirror_mode": {
    "name": "ipython",
    "version": 3
   },
   "file_extension": ".py",
   "mimetype": "text/x-python",
   "name": "python",
   "nbconvert_exporter": "python",
   "pygments_lexer": "ipython3",
   "version": "3.6.0"
  }
 },
 "nbformat": 4,
 "nbformat_minor": 2
}
