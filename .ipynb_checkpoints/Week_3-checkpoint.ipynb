{
 "cells": [
  {
   "cell_type": "markdown",
   "metadata": {},
   "source": [
    "# Facebook Stock Event Study"
   ]
  },
  {
   "cell_type": "markdown",
   "metadata": {},
   "source": [
    "** 1.1: ** A few weeks ago Facebook's stock skyrocketed after they announced the fourth-quarter earnings on the 30th of January 2019 [(Curran, 2019](https://realmoney.thestreet.com/investing/stocks/whats-up-facebooks-stock-after-strong-fourth-quarter-earnings-14851543), [Swartz, 2019)](https://www.barrons.com/articles/facebook-stock-is-up-because-earnings-crushed-expectations-51548884872). Despite all privacy scandals and criticism in the media recently, the tech unicorn proved investors wrong: stock prices exceeded the 170 dollar mark after a long period of decline. Figure 1 illustrates the financial consequences of this event as compared to overall industry market growth (NASDAQ).\n",
    "\n",
    "In this assignment we apply the event study method to demonstrate that stock returns on the 30th and 31th of January can be regarded as abnormal."
   ]
  },
  {
   "cell_type": "markdown",
   "metadata": {},
   "source": [
    "![Facebook Stock](FB_stock.png)\n",
    "**Figure 1**: Facebook (dark blue) vs NASDAQ (light blue) stock price growth\n"
   ]
  },
  {
   "cell_type": "markdown",
   "metadata": {},
   "source": [
    "**1.2: ** This stock growth can be attributed towards the publication of company results which can be seen as an internal event put into action by the firm's management team."
   ]
  },
  {
   "cell_type": "markdown",
   "metadata": {},
   "source": [
    "**1.3:** Facebook's advertising revenue streams are largely dependent on the number of daily active users on the platform. According to Swartz this number grew by 9% to 2.32 billion which exceeded analyst's expectations. In turn, this allows the company to pay out higher dividends to its shareholders. Since investors expect an increase in cash flows, investor's trade reaction is to buy more stocks and therfore the firm stock price goes up.  \n",
    "\n",
    "In short, it is expected that due to positive company results Facebook's stock price significantly increases on the 30th and 31st of January 2019."
   ]
  },
  {
   "cell_type": "code",
   "execution_count": 1,
   "metadata": {
    "collapsed": true
   },
   "outputs": [],
   "source": [
    "# 2.1 collect Facebook stock data for the last 2 years (IEX Trading API)\n",
    "import requests, pandas as pd\n",
    "\n",
    "def get_stock(stock_symbol):\n",
    "    r = requests.get('https://api.iextrading.com/1.0/stock/' + stock_symbol + '/chart/2y')\n",
    "    result = r.json()\n",
    "    return pd.DataFrame(list({pd.to_datetime(date['date']): date['close'] for date in result}.items()), columns=['date', 'stock']) \n",
    "\n",
    "fb = get_stock('fb')\n",
    "ndaq = get_stock('ndaq')"
   ]
  },
  {
   "cell_type": "code",
   "execution_count": 2,
   "metadata": {
    "collapsed": true
   },
   "outputs": [],
   "source": [
    "# define stock returns\n",
    "import numpy as np\n",
    "\n",
    "def stock_returns(df): \n",
    "    for row in range(1, len(df)):\n",
    "        df.loc[row, \"stock_return\"] = (df.loc[row, \"stock\"] - df.loc[row-1, \"stock\"]) / df.loc[row-1, \"stock\"]\n",
    "        df.loc[row, \"actual_stock_return\"] = (df.loc[row, \"stock\"] - df.loc[row-1, \"stock\"]) - 1\n",
    "    return df\n",
    "\n",
    "fb = stock_returns(fb)\n",
    "ndaq = stock_returns(ndaq)"
   ]
  },
  {
   "cell_type": "markdown",
   "metadata": {},
   "source": [
    "#### Data Description \n",
    "Below the first five records of the Facebook and Nasdaq dataset are displayed. The latter serves to capture overall market trends, while the former is the main topic of this study. Both datasets include closing `stock` values from the 21st of February 2017 to the 21st of February 2019. The `stock_return` indicates the relative difference in stock value compared to the working day before. The `actual_stock_return` is the ratio between two consecutive stock values."
   ]
  },
  {
   "cell_type": "code",
   "execution_count": 3,
   "metadata": {},
   "outputs": [
    {
     "data": {
      "text/html": [
       "<div>\n",
       "<style scoped>\n",
       "    .dataframe tbody tr th:only-of-type {\n",
       "        vertical-align: middle;\n",
       "    }\n",
       "\n",
       "    .dataframe tbody tr th {\n",
       "        vertical-align: top;\n",
       "    }\n",
       "\n",
       "    .dataframe thead th {\n",
       "        text-align: right;\n",
       "    }\n",
       "</style>\n",
       "<table border=\"1\" class=\"dataframe\">\n",
       "  <thead>\n",
       "    <tr style=\"text-align: right;\">\n",
       "      <th></th>\n",
       "      <th>date</th>\n",
       "      <th>stock</th>\n",
       "      <th>stock_return</th>\n",
       "      <th>actual_stock_return</th>\n",
       "    </tr>\n",
       "  </thead>\n",
       "  <tbody>\n",
       "    <tr>\n",
       "      <th>0</th>\n",
       "      <td>2017-02-21</td>\n",
       "      <td>133.72</td>\n",
       "      <td>NaN</td>\n",
       "      <td>NaN</td>\n",
       "    </tr>\n",
       "    <tr>\n",
       "      <th>1</th>\n",
       "      <td>2017-02-22</td>\n",
       "      <td>136.12</td>\n",
       "      <td>0.017948</td>\n",
       "      <td>1.40</td>\n",
       "    </tr>\n",
       "    <tr>\n",
       "      <th>2</th>\n",
       "      <td>2017-02-23</td>\n",
       "      <td>135.36</td>\n",
       "      <td>-0.005583</td>\n",
       "      <td>-1.76</td>\n",
       "    </tr>\n",
       "    <tr>\n",
       "      <th>3</th>\n",
       "      <td>2017-02-24</td>\n",
       "      <td>135.44</td>\n",
       "      <td>0.000591</td>\n",
       "      <td>-0.92</td>\n",
       "    </tr>\n",
       "    <tr>\n",
       "      <th>4</th>\n",
       "      <td>2017-02-27</td>\n",
       "      <td>136.41</td>\n",
       "      <td>0.007162</td>\n",
       "      <td>-0.03</td>\n",
       "    </tr>\n",
       "  </tbody>\n",
       "</table>\n",
       "</div>"
      ],
      "text/plain": [
       "        date   stock  stock_return  actual_stock_return\n",
       "0 2017-02-21  133.72           NaN                  NaN\n",
       "1 2017-02-22  136.12      0.017948                 1.40\n",
       "2 2017-02-23  135.36     -0.005583                -1.76\n",
       "3 2017-02-24  135.44      0.000591                -0.92\n",
       "4 2017-02-27  136.41      0.007162                -0.03"
      ]
     },
     "execution_count": 3,
     "metadata": {},
     "output_type": "execute_result"
    }
   ],
   "source": [
    "# Facebook stock data\n",
    "fb.head()"
   ]
  },
  {
   "cell_type": "code",
   "execution_count": 4,
   "metadata": {},
   "outputs": [
    {
     "data": {
      "text/html": [
       "<div>\n",
       "<style scoped>\n",
       "    .dataframe tbody tr th:only-of-type {\n",
       "        vertical-align: middle;\n",
       "    }\n",
       "\n",
       "    .dataframe tbody tr th {\n",
       "        vertical-align: top;\n",
       "    }\n",
       "\n",
       "    .dataframe thead th {\n",
       "        text-align: right;\n",
       "    }\n",
       "</style>\n",
       "<table border=\"1\" class=\"dataframe\">\n",
       "  <thead>\n",
       "    <tr style=\"text-align: right;\">\n",
       "      <th></th>\n",
       "      <th>date</th>\n",
       "      <th>stock</th>\n",
       "      <th>stock_return</th>\n",
       "      <th>actual_stock_return</th>\n",
       "    </tr>\n",
       "  </thead>\n",
       "  <tbody>\n",
       "    <tr>\n",
       "      <th>0</th>\n",
       "      <td>2017-02-21</td>\n",
       "      <td>68.6514</td>\n",
       "      <td>NaN</td>\n",
       "      <td>NaN</td>\n",
       "    </tr>\n",
       "    <tr>\n",
       "      <th>1</th>\n",
       "      <td>2017-02-22</td>\n",
       "      <td>68.5263</td>\n",
       "      <td>-0.001822</td>\n",
       "      <td>-1.1251</td>\n",
       "    </tr>\n",
       "    <tr>\n",
       "      <th>2</th>\n",
       "      <td>2017-02-23</td>\n",
       "      <td>68.7283</td>\n",
       "      <td>0.002948</td>\n",
       "      <td>-0.7980</td>\n",
       "    </tr>\n",
       "    <tr>\n",
       "      <th>3</th>\n",
       "      <td>2017-02-24</td>\n",
       "      <td>68.7283</td>\n",
       "      <td>0.000000</td>\n",
       "      <td>-1.0000</td>\n",
       "    </tr>\n",
       "    <tr>\n",
       "      <th>4</th>\n",
       "      <td>2017-02-27</td>\n",
       "      <td>68.4398</td>\n",
       "      <td>-0.004198</td>\n",
       "      <td>-1.2885</td>\n",
       "    </tr>\n",
       "  </tbody>\n",
       "</table>\n",
       "</div>"
      ],
      "text/plain": [
       "        date    stock  stock_return  actual_stock_return\n",
       "0 2017-02-21  68.6514           NaN                  NaN\n",
       "1 2017-02-22  68.5263     -0.001822              -1.1251\n",
       "2 2017-02-23  68.7283      0.002948              -0.7980\n",
       "3 2017-02-24  68.7283      0.000000              -1.0000\n",
       "4 2017-02-27  68.4398     -0.004198              -1.2885"
      ]
     },
     "execution_count": 4,
     "metadata": {},
     "output_type": "execute_result"
    }
   ],
   "source": [
    "# NASDAQ stock data\n",
    "ndaq.head()"
   ]
  },
  {
   "cell_type": "code",
   "execution_count": 5,
   "metadata": {},
   "outputs": [
    {
     "name": "stderr",
     "output_type": "stream",
     "text": [
      "/Users/RoyKlaasseBos/RoyKlaasseBos/anaconda/lib/python3.6/site-packages/statsmodels/compat/pandas.py:56: FutureWarning: The pandas.core.datetools module is deprecated and will be removed in a future version. Please use the pandas.tseries module instead.\n",
      "  from pandas.core import datetools\n"
     ]
    },
    {
     "name": "stdout",
     "output_type": "stream",
     "text": [
      "                            OLS Regression Results                            \n",
      "==============================================================================\n",
      "Dep. Variable:           stock_return   R-squared:                       0.078\n",
      "Model:                            OLS   Adj. R-squared:                  0.076\n",
      "Method:                 Least Squares   F-statistic:                     40.92\n",
      "Date:                Fri, 22 Feb 2019   Prob (F-statistic):           3.73e-10\n",
      "Time:                        14:58:21   Log-Likelihood:                 1256.0\n",
      "No. Observations:                 487   AIC:                            -2508.\n",
      "Df Residuals:                     485   BIC:                            -2500.\n",
      "Df Model:                           1                                         \n",
      "Covariance Type:            nonrobust                                         \n",
      "================================================================================\n",
      "                   coef    std err          t      P>|t|      [0.025      0.975]\n",
      "--------------------------------------------------------------------------------\n",
      "const         8.862e-05      0.001      0.106      0.915      -0.002       0.002\n",
      "stock_return     0.4922      0.077      6.397      0.000       0.341       0.643\n",
      "==============================================================================\n",
      "Omnibus:                      325.792   Durbin-Watson:                   2.096\n",
      "Prob(Omnibus):                  0.000   Jarque-Bera (JB):            12468.347\n",
      "Skew:                          -2.328   Prob(JB):                         0.00\n",
      "Kurtosis:                      27.347   Cond. No.                         92.3\n",
      "==============================================================================\n",
      "\n",
      "Warnings:\n",
      "[1] Standard Errors assume that the covariance matrix of the errors is correctly specified.\n"
     ]
    }
   ],
   "source": [
    "# run simple ols model on stock returns (14th of February 2017 to 29th of January 2019)\n",
    "import statsmodels.api as sm\n",
    "from scipy import stats\n",
    "end_date = '2019-01-29'\n",
    "\n",
    "X = ndaq.loc[1:fb[fb.date == end_date].index[0], ['stock_return']] \n",
    "y = fb.loc[1:fb[fb.date == end_date].index[0], ['stock_return']]\n",
    "\n",
    "X2 = sm.add_constant(X)\n",
    "est = sm.OLS(y, X2.astype(float))\n",
    "est2 = est.fit()\n",
    "print(est2.summary())"
   ]
  },
  {
   "cell_type": "code",
   "execution_count": 6,
   "metadata": {
    "collapsed": true
   },
   "outputs": [],
   "source": [
    "# calculate expected Facebook returns\n",
    "df_merged = pd.merge(fb, ndaq, left_on = 'date', right_on = 'date', suffixes=('_fb', '_ndaq'))\n",
    "df_merged['expected_return_fb'] = est2.params[0] + est2.params[1] * df_merged['actual_stock_return_ndaq']\n",
    "df_merged['abnormal_return_fb'] = df_merged['actual_stock_return_fb'] - df_merged['expected_return_fb']"
   ]
  },
  {
   "cell_type": "code",
   "execution_count": 7,
   "metadata": {},
   "outputs": [
    {
     "data": {
      "text/html": [
       "<div>\n",
       "<style scoped>\n",
       "    .dataframe tbody tr th:only-of-type {\n",
       "        vertical-align: middle;\n",
       "    }\n",
       "\n",
       "    .dataframe tbody tr th {\n",
       "        vertical-align: top;\n",
       "    }\n",
       "\n",
       "    .dataframe thead th {\n",
       "        text-align: right;\n",
       "    }\n",
       "</style>\n",
       "<table border=\"1\" class=\"dataframe\">\n",
       "  <thead>\n",
       "    <tr style=\"text-align: right;\">\n",
       "      <th></th>\n",
       "      <th>date</th>\n",
       "      <th>abnormal_return_fb</th>\n",
       "    </tr>\n",
       "  </thead>\n",
       "  <tbody>\n",
       "    <tr>\n",
       "      <th>489</th>\n",
       "      <td>2019-01-31</td>\n",
       "      <td>15.097654</td>\n",
       "    </tr>\n",
       "    <tr>\n",
       "      <th>297</th>\n",
       "      <td>2018-04-26</td>\n",
       "      <td>13.782584</td>\n",
       "    </tr>\n",
       "    <tr>\n",
       "      <th>465</th>\n",
       "      <td>2018-12-26</td>\n",
       "      <td>8.371821</td>\n",
       "    </tr>\n",
       "    <tr>\n",
       "      <th>367</th>\n",
       "      <td>2018-08-06</td>\n",
       "      <td>7.182768</td>\n",
       "    </tr>\n",
       "    <tr>\n",
       "      <th>174</th>\n",
       "      <td>2017-10-27</td>\n",
       "      <td>6.718059</td>\n",
       "    </tr>\n",
       "  </tbody>\n",
       "</table>\n",
       "</div>"
      ],
      "text/plain": [
       "          date  abnormal_return_fb\n",
       "489 2019-01-31           15.097654\n",
       "297 2018-04-26           13.782584\n",
       "465 2018-12-26            8.371821\n",
       "367 2018-08-06            7.182768\n",
       "174 2017-10-27            6.718059"
      ]
     },
     "execution_count": 7,
     "metadata": {},
     "output_type": "execute_result"
    }
   ],
   "source": [
    "# top 5 dates positive abnormal returns \n",
    "df_merged[['date', 'abnormal_return_fb']].sort_values(by='abnormal_return_fb', ascending=False).head()\n",
    "# note that the 31st of January 2019 has the highest abnormal return!"
   ]
  },
  {
   "cell_type": "code",
   "execution_count": 8,
   "metadata": {},
   "outputs": [
    {
     "data": {
      "text/html": [
       "<div>\n",
       "<style scoped>\n",
       "    .dataframe tbody tr th:only-of-type {\n",
       "        vertical-align: middle;\n",
       "    }\n",
       "\n",
       "    .dataframe tbody tr th {\n",
       "        vertical-align: top;\n",
       "    }\n",
       "\n",
       "    .dataframe thead th {\n",
       "        text-align: right;\n",
       "    }\n",
       "</style>\n",
       "<table border=\"1\" class=\"dataframe\">\n",
       "  <thead>\n",
       "    <tr style=\"text-align: right;\">\n",
       "      <th></th>\n",
       "      <th>date</th>\n",
       "      <th>abnormal_return_fb</th>\n",
       "    </tr>\n",
       "  </thead>\n",
       "  <tbody>\n",
       "    <tr>\n",
       "      <th>360</th>\n",
       "      <td>2018-07-26</td>\n",
       "      <td>-41.723562</td>\n",
       "    </tr>\n",
       "    <tr>\n",
       "      <th>270</th>\n",
       "      <td>2018-03-19</td>\n",
       "      <td>-12.868176</td>\n",
       "    </tr>\n",
       "    <tr>\n",
       "      <th>461</th>\n",
       "      <td>2018-12-19</td>\n",
       "      <td>-10.568643</td>\n",
       "    </tr>\n",
       "    <tr>\n",
       "      <th>226</th>\n",
       "      <td>2018-01-12</td>\n",
       "      <td>-9.376366</td>\n",
       "    </tr>\n",
       "    <tr>\n",
       "      <th>423</th>\n",
       "      <td>2018-10-24</td>\n",
       "      <td>-8.779571</td>\n",
       "    </tr>\n",
       "  </tbody>\n",
       "</table>\n",
       "</div>"
      ],
      "text/plain": [
       "          date  abnormal_return_fb\n",
       "360 2018-07-26          -41.723562\n",
       "270 2018-03-19          -12.868176\n",
       "461 2018-12-19          -10.568643\n",
       "226 2018-01-12           -9.376366\n",
       "423 2018-10-24           -8.779571"
      ]
     },
     "execution_count": 8,
     "metadata": {},
     "output_type": "execute_result"
    }
   ],
   "source": [
    "# top 5 dates negative abnormal returns \n",
    "df_merged[['date', 'abnormal_return_fb']].sort_values(by='abnormal_return_fb', ascending=True).head()\n",
    "# this CNBC article explains why the 26th of June was Facebook's worst day ever: https://www.cnbc.com/2018/07/26/facebook-is-on-pace-for-its-worst-day-ever.html"
   ]
  },
  {
   "cell_type": "code",
   "execution_count": 9,
   "metadata": {},
   "outputs": [
    {
     "data": {
      "text/html": [
       "<div>\n",
       "<style scoped>\n",
       "    .dataframe tbody tr th:only-of-type {\n",
       "        vertical-align: middle;\n",
       "    }\n",
       "\n",
       "    .dataframe tbody tr th {\n",
       "        vertical-align: top;\n",
       "    }\n",
       "\n",
       "    .dataframe thead th {\n",
       "        text-align: right;\n",
       "    }\n",
       "</style>\n",
       "<table border=\"1\" class=\"dataframe\">\n",
       "  <thead>\n",
       "    <tr style=\"text-align: right;\">\n",
       "      <th></th>\n",
       "      <th>date</th>\n",
       "      <th>abnormal_return_fb</th>\n",
       "    </tr>\n",
       "  </thead>\n",
       "  <tbody>\n",
       "    <tr>\n",
       "      <th>485</th>\n",
       "      <td>2019-01-25</td>\n",
       "      <td>2.327561</td>\n",
       "    </tr>\n",
       "    <tr>\n",
       "      <th>486</th>\n",
       "      <td>2019-01-28</td>\n",
       "      <td>-2.234946</td>\n",
       "    </tr>\n",
       "    <tr>\n",
       "      <th>487</th>\n",
       "      <td>2019-01-29</td>\n",
       "      <td>-3.659961</td>\n",
       "    </tr>\n",
       "    <tr>\n",
       "      <th>488</th>\n",
       "      <td>2019-01-30</td>\n",
       "      <td>5.288971</td>\n",
       "    </tr>\n",
       "    <tr>\n",
       "      <th>489</th>\n",
       "      <td>2019-01-31</td>\n",
       "      <td>15.097654</td>\n",
       "    </tr>\n",
       "    <tr>\n",
       "      <th>490</th>\n",
       "      <td>2019-02-01</td>\n",
       "      <td>-1.163095</td>\n",
       "    </tr>\n",
       "    <tr>\n",
       "      <th>491</th>\n",
       "      <td>2019-02-04</td>\n",
       "      <td>3.238786</td>\n",
       "    </tr>\n",
       "    <tr>\n",
       "      <th>492</th>\n",
       "      <td>2019-02-05</td>\n",
       "      <td>1.475901</td>\n",
       "    </tr>\n",
       "    <tr>\n",
       "      <th>493</th>\n",
       "      <td>2019-02-06</td>\n",
       "      <td>-1.236984</td>\n",
       "    </tr>\n",
       "    <tr>\n",
       "      <th>494</th>\n",
       "      <td>2019-02-07</td>\n",
       "      <td>-4.563786</td>\n",
       "    </tr>\n",
       "    <tr>\n",
       "      <th>495</th>\n",
       "      <td>2019-02-08</td>\n",
       "      <td>0.323957</td>\n",
       "    </tr>\n",
       "  </tbody>\n",
       "</table>\n",
       "</div>"
      ],
      "text/plain": [
       "          date  abnormal_return_fb\n",
       "485 2019-01-25            2.327561\n",
       "486 2019-01-28           -2.234946\n",
       "487 2019-01-29           -3.659961\n",
       "488 2019-01-30            5.288971\n",
       "489 2019-01-31           15.097654\n",
       "490 2019-02-01           -1.163095\n",
       "491 2019-02-04            3.238786\n",
       "492 2019-02-05            1.475901\n",
       "493 2019-02-06           -1.236984\n",
       "494 2019-02-07           -4.563786\n",
       "495 2019-02-08            0.323957"
      ]
     },
     "execution_count": 9,
     "metadata": {},
     "output_type": "execute_result"
    }
   ],
   "source": [
    "# a more detailed looks suggests a 2-day window would be most appropriate (30th and 31st of January)\n",
    "df_merged.loc[485:495, ['date', 'abnormal_return_fb']]"
   ]
  },
  {
   "cell_type": "code",
   "execution_count": 10,
   "metadata": {
    "collapsed": true
   },
   "outputs": [],
   "source": [
    "# calculate cumulative abornomal returns (CAR)\n",
    "CAR = df_merged.loc[df_merged.date == '2019-01-30', 'abnormal_return_fb'].item() + df_merged.loc[df_merged.date == '2019-01-31', 'abnormal_return_fb'].item()"
   ]
  },
  {
   "cell_type": "code",
   "execution_count": 11,
   "metadata": {},
   "outputs": [],
   "source": [
    "# calculate standardized abnormal returns (SCAR)\n",
    "import numpy as np\n",
    "\n",
    "event_window_length = 2\n",
    "var_e = np.var(est2.resid)\n",
    "\n",
    "SCAR = (CAR/100) / (event_window_length * var_e)**.5"
   ]
  },
  {
   "cell_type": "markdown",
   "metadata": {},
   "source": [
    "** 3. Conclusion **  \n",
    "All in all, we can conclude that abnormal returns in event period are 7.9 standard deviations from estimation period abnormal returns. Hence, the publication of fourth-quarter results on January 30th 2019 had a significant positive effect on Facebook's stock price.\""
   ]
  },
  {
   "cell_type": "markdown",
   "metadata": {},
   "source": [
    "**Validation**   \n",
    "It is generally known that tech companies (e.g. Facebook) stocks are more volatile than the stock market index (e.g. NASDAQ). This also follows from the kernel density plot for the stock returns below. As such, one would expect a high beta value in the regression analysis. The reason we find a  coefficient of 0.4922 nonetheless is because the stock market index alone is only able to explain 7.8% of the variation in Facebook's stock return. That is to say, 92.2% of the variation can be explained by other factors which are outside the scope of the market model. As a result, the estimation for the `expected_return_fb` will be off which in turn affects the CAR and SCAR estimates. Thus, it would be highly recommended to go beyond the market model (e.g. 3/4 factor model)."
   ]
  },
  {
   "cell_type": "code",
   "execution_count": 13,
   "metadata": {},
   "outputs": [
    {
     "data": {
      "image/png": "[encoded data removed]",
      "text/plain": [
       "<matplotlib.figure.Figure at 0x117d452b0>"
      ]
     },
     "metadata": {},
     "output_type": "display_data"
    }
   ],
   "source": [
    "% matplotlib inline\n",
    "ax = fb['stock_return'].plot(kind='kde', label='Facebook')\n",
    "ax = ndaq['stock_return'].plot(kind='kde', label='NASDAQ')\n",
    "ax.set_title(\"Stock return distribution\")\n",
    "ax.set_xlim(-0.1, 0.1)\n",
    "ax.legend();"
   ]
  },
  {
   "cell_type": "code",
   "execution_count": null,
   "metadata": {
    "collapsed": true
   },
   "outputs": [],
   "source": []
  }
 ],
 "metadata": {
  "kernelspec": {
   "display_name": "Python 3",
   "language": "python",
   "name": "python3"
  },
  "language_info": {
   "codemirror_mode": {
    "name": "ipython",
    "version": 3
   },
   "file_extension": ".py",
   "mimetype": "text/x-python",
   "name": "python",
   "nbconvert_exporter": "python",
   "pygments_lexer": "ipython3",
   "version": "3.6.0"
  }
 },
 "nbformat": 4,
 "nbformat_minor": 2
}
